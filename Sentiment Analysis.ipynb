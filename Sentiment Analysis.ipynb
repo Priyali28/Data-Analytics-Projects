{
 "cells": [
  {
   "cell_type": "code",
   "execution_count": 1,
   "metadata": {
    "id": "5BfBqQ9XSBC2"
   },
   "outputs": [],
   "source": [
    "#importing Libraries\n",
    "import nltk\n",
    "import re\n",
    "import csv\n",
    "import pandas as pd\n",
    "from sklearn.feature_extraction.text import TfidfVectorizer\n",
    "from sklearn import svm\n",
    "from sklearn.svm import LinearSVC\n",
    "from sklearn import metrics\n",
    "from sklearn.feature_extraction.text import CountVectorizer\n",
    "from sklearn.metrics import classification_report\n",
    "from sklearn.linear_model import LogisticRegression\n",
    "from sklearn.model_selection import train_test_split\n",
    "import numpy as np\n",
    "from sklearn.naive_bayes import MultinomialNB"
   ]
  },
  {
   "cell_type": "code",
   "execution_count": 2,
   "metadata": {
    "colab": {
     "base_uri": "https://localhost:8080/",
     "height": 424
    },
    "id": "gtxnBOMyR5VG",
    "outputId": "4a4754ac-c0fb-4374-bf55-5e497b979483"
   },
   "outputs": [
    {
     "data": {
      "text/html": [
       "\n",
       "  <div id=\"df-831bc363-5ea7-4414-bb39-6305628e71af\">\n",
       "    <div class=\"colab-df-container\">\n",
       "      <div>\n",
       "<style scoped>\n",
       "    .dataframe tbody tr th:only-of-type {\n",
       "        vertical-align: middle;\n",
       "    }\n",
       "\n",
       "    .dataframe tbody tr th {\n",
       "        vertical-align: top;\n",
       "    }\n",
       "\n",
       "    .dataframe thead th {\n",
       "        text-align: right;\n",
       "    }\n",
       "</style>\n",
       "<table border=\"1\" class=\"dataframe\">\n",
       "  <thead>\n",
       "    <tr style=\"text-align: right;\">\n",
       "      <th></th>\n",
       "      <th>0</th>\n",
       "      <th>1</th>\n",
       "    </tr>\n",
       "  </thead>\n",
       "  <tbody>\n",
       "    <tr>\n",
       "      <th>0</th>\n",
       "      <td>zentropa much common the third man another noi...</td>\n",
       "      <td>1</td>\n",
       "    </tr>\n",
       "    <tr>\n",
       "      <th>1</th>\n",
       "      <td>zentropa original movie i've seen years like u...</td>\n",
       "      <td>1</td>\n",
       "    </tr>\n",
       "    <tr>\n",
       "      <th>2</th>\n",
       "      <td>lars von trier never backward trying new techn...</td>\n",
       "      <td>1</td>\n",
       "    </tr>\n",
       "    <tr>\n",
       "      <th>3</th>\n",
       "      <td>contains spoilers due describe film techniques...</td>\n",
       "      <td>1</td>\n",
       "    </tr>\n",
       "    <tr>\n",
       "      <th>4</th>\n",
       "      <td>that first thing sprang mind watched closing c...</td>\n",
       "      <td>1</td>\n",
       "    </tr>\n",
       "    <tr>\n",
       "      <th>...</th>\n",
       "      <td>...</td>\n",
       "      <td>...</td>\n",
       "    </tr>\n",
       "    <tr>\n",
       "      <th>24995</th>\n",
       "      <td>there isn't enough there funny spots really en...</td>\n",
       "      <td>0</td>\n",
       "    </tr>\n",
       "    <tr>\n",
       "      <th>24996</th>\n",
       "      <td>tainted look kibbutz life this film less cultu...</td>\n",
       "      <td>0</td>\n",
       "    </tr>\n",
       "    <tr>\n",
       "      <th>24997</th>\n",
       "      <td>saw movie released hailed best picture year is...</td>\n",
       "      <td>0</td>\n",
       "    </tr>\n",
       "    <tr>\n",
       "      <th>24998</th>\n",
       "      <td>any film begins cowhand shagging female calf c...</td>\n",
       "      <td>0</td>\n",
       "    </tr>\n",
       "    <tr>\n",
       "      <th>24999</th>\n",
       "      <td>yes awa wrestling anyone forget unreal show fi...</td>\n",
       "      <td>0</td>\n",
       "    </tr>\n",
       "  </tbody>\n",
       "</table>\n",
       "<p>25000 rows × 2 columns</p>\n",
       "</div>\n",
       "      <button class=\"colab-df-convert\" onclick=\"convertToInteractive('df-831bc363-5ea7-4414-bb39-6305628e71af')\"\n",
       "              title=\"Convert this dataframe to an interactive table.\"\n",
       "              style=\"display:none;\">\n",
       "        \n",
       "  <svg xmlns=\"http://www.w3.org/2000/svg\" height=\"24px\"viewBox=\"0 0 24 24\"\n",
       "       width=\"24px\">\n",
       "    <path d=\"M0 0h24v24H0V0z\" fill=\"none\"/>\n",
       "    <path d=\"M18.56 5.44l.94 2.06.94-2.06 2.06-.94-2.06-.94-.94-2.06-.94 2.06-2.06.94zm-11 1L8.5 8.5l.94-2.06 2.06-.94-2.06-.94L8.5 2.5l-.94 2.06-2.06.94zm10 10l.94 2.06.94-2.06 2.06-.94-2.06-.94-.94-2.06-.94 2.06-2.06.94z\"/><path d=\"M17.41 7.96l-1.37-1.37c-.4-.4-.92-.59-1.43-.59-.52 0-1.04.2-1.43.59L10.3 9.45l-7.72 7.72c-.78.78-.78 2.05 0 2.83L4 21.41c.39.39.9.59 1.41.59.51 0 1.02-.2 1.41-.59l7.78-7.78 2.81-2.81c.8-.78.8-2.07 0-2.86zM5.41 20L4 18.59l7.72-7.72 1.47 1.35L5.41 20z\"/>\n",
       "  </svg>\n",
       "      </button>\n",
       "      \n",
       "  <style>\n",
       "    .colab-df-container {\n",
       "      display:flex;\n",
       "      flex-wrap:wrap;\n",
       "      gap: 12px;\n",
       "    }\n",
       "\n",
       "    .colab-df-convert {\n",
       "      background-color: #E8F0FE;\n",
       "      border: none;\n",
       "      border-radius: 50%;\n",
       "      cursor: pointer;\n",
       "      display: none;\n",
       "      fill: #1967D2;\n",
       "      height: 32px;\n",
       "      padding: 0 0 0 0;\n",
       "      width: 32px;\n",
       "    }\n",
       "\n",
       "    .colab-df-convert:hover {\n",
       "      background-color: #E2EBFA;\n",
       "      box-shadow: 0px 1px 2px rgba(60, 64, 67, 0.3), 0px 1px 3px 1px rgba(60, 64, 67, 0.15);\n",
       "      fill: #174EA6;\n",
       "    }\n",
       "\n",
       "    [theme=dark] .colab-df-convert {\n",
       "      background-color: #3B4455;\n",
       "      fill: #D2E3FC;\n",
       "    }\n",
       "\n",
       "    [theme=dark] .colab-df-convert:hover {\n",
       "      background-color: #434B5C;\n",
       "      box-shadow: 0px 1px 3px 1px rgba(0, 0, 0, 0.15);\n",
       "      filter: drop-shadow(0px 1px 2px rgba(0, 0, 0, 0.3));\n",
       "      fill: #FFFFFF;\n",
       "    }\n",
       "  </style>\n",
       "\n",
       "      <script>\n",
       "        const buttonEl =\n",
       "          document.querySelector('#df-831bc363-5ea7-4414-bb39-6305628e71af button.colab-df-convert');\n",
       "        buttonEl.style.display =\n",
       "          google.colab.kernel.accessAllowed ? 'block' : 'none';\n",
       "\n",
       "        async function convertToInteractive(key) {\n",
       "          const element = document.querySelector('#df-831bc363-5ea7-4414-bb39-6305628e71af');\n",
       "          const dataTable =\n",
       "            await google.colab.kernel.invokeFunction('convertToInteractive',\n",
       "                                                     [key], {});\n",
       "          if (!dataTable) return;\n",
       "\n",
       "          const docLinkHtml = 'Like what you see? Visit the ' +\n",
       "            '<a target=\"_blank\" href=https://colab.research.google.com/notebooks/data_table.ipynb>data table notebook</a>'\n",
       "            + ' to learn more about interactive tables.';\n",
       "          element.innerHTML = '';\n",
       "          dataTable['output_type'] = 'display_data';\n",
       "          await google.colab.output.renderOutput(dataTable, element);\n",
       "          const docLink = document.createElement('div');\n",
       "          docLink.innerHTML = docLinkHtml;\n",
       "          element.appendChild(docLink);\n",
       "        }\n",
       "      </script>\n",
       "    </div>\n",
       "  </div>\n",
       "  "
      ],
      "text/plain": [
       "                                                       0  1\n",
       "0      zentropa much common the third man another noi...  1\n",
       "1      zentropa original movie i've seen years like u...  1\n",
       "2      lars von trier never backward trying new techn...  1\n",
       "3      contains spoilers due describe film techniques...  1\n",
       "4      that first thing sprang mind watched closing c...  1\n",
       "...                                                  ... ..\n",
       "24995  there isn't enough there funny spots really en...  0\n",
       "24996  tainted look kibbutz life this film less cultu...  0\n",
       "24997  saw movie released hailed best picture year is...  0\n",
       "24998  any film begins cowhand shagging female calf c...  0\n",
       "24999  yes awa wrestling anyone forget unreal show fi...  0\n",
       "\n",
       "[25000 rows x 2 columns]"
      ]
     },
     "execution_count": 2,
     "metadata": {},
     "output_type": "execute_result"
    }
   ],
   "source": [
    "#Loading Datasets\n",
    "reviews= pd.read_csv('MLimdbtrain.csv')\n",
    "test = pd.read_csv('MLimdbtest.csv')\n",
    "reviews = reviews[['0', '1']]\n",
    "test = test[['0', '1']]\n",
    "reviews"
   ]
  },
  {
   "cell_type": "code",
   "execution_count": 3,
   "metadata": {
    "colab": {
     "base_uri": "https://localhost:8080/"
    },
    "id": "ZZH221atTOIz",
    "outputId": "43ce9095-a3d3-4bfd-a0b0-c9042aabafa1"
   },
   "outputs": [
    {
     "data": {
      "text/plain": [
       "0        previous reviewer claudio carvalho gave much b...\n",
       "1        contains spoiler information watch director fi...\n",
       "2        this first deepa mehta film saw film hindi ver...\n",
       "3        this great film every sense word tackles subje...\n",
       "4        stunningly well-made film exceptional acting d...\n",
       "                               ...                        \n",
       "24995    this basically run mill violent biker flick co...\n",
       "24996    caught wild rebels one mystery science theatre...\n",
       "24997    decide watch wild rebels don't expect anything...\n",
       "24998    wild rebels probably fun second film drive mov...\n",
       "24999    probably biggest thing wild rebels hurts hero ...\n",
       "Name: 0, Length: 25000, dtype: object"
      ]
     },
     "execution_count": 3,
     "metadata": {},
     "output_type": "execute_result"
    }
   ],
   "source": [
    "reviews['0'].str.lower() #coverting into lowercase\n",
    "test['0'].str.lower() #coverting into lowercase\n",
    "#removing special characters\n",
    "#reviews['0']=reviews['0'].replace(r'[^0-9a-zA-Z]', '', regex=True).replace(\"?.,!:;$%^&*()#@+/<>=\\\\[]_~{}|`,')(\\\"\",\"\") \n",
    "#test['0']=test['0'].replace(r'[^0-9a-zA-Z ]', '', regex=True).replace(\"?.,!:;$%^&*()#@+/<>=\\\\[]_~{}|`,')(\\\"\",\"\")"
   ]
  },
  {
   "cell_type": "code",
   "execution_count": 36,
   "metadata": {
    "colab": {
     "base_uri": "https://localhost:8080/"
    },
    "id": "ZcrbjRWDRJY0",
    "outputId": "902cac14-d44b-4331-d24a-8873623624d8"
   },
   "outputs": [
    {
     "name": "stdout",
     "output_type": "stream",
     "text": [
      "              precision    recall  f1-score   support\n",
      "\n",
      "           0       0.79      0.88      0.83     12500\n",
      "           1       0.87      0.77      0.81     12500\n",
      "\n",
      "    accuracy                           0.82     25000\n",
      "   macro avg       0.83      0.82      0.82     25000\n",
      "weighted avg       0.83      0.82      0.82     25000\n",
      "\n",
      "accuracy: 0.825\n"
     ]
    }
   ],
   "source": [
    "#Naive Bayes Model\n",
    "vectorizer = CountVectorizer()\n",
    "train_features = vectorizer.fit_transform(reviews['0'])\n",
    "test_features = vectorizer.transform(test['0'])\n",
    "\n",
    "nb = MultinomialNB()\n",
    "nb.fit(train_features, reviews['1'])\n",
    "\n",
    "# Now we can use the model to predict classifications for our test features.\n",
    "predictions = nb.predict(test_features)\n",
    "\n",
    "# Compute the error.  \n",
    "print(metrics.classification_report(test['1'], predictions))\n",
    "print(\"accuracy: {0}\".format(metrics.accuracy_score(test['1'], predictions)))\n"
   ]
  },
  {
   "cell_type": "code",
   "execution_count": 37,
   "metadata": {
    "colab": {
     "base_uri": "https://localhost:8080/"
    },
    "id": "iPyM6kcrUBC1",
    "outputId": "8ef682a6-a530-4ad0-9948-e4a5979150d7"
   },
   "outputs": [
    {
     "name": "stdout",
     "output_type": "stream",
     "text": [
      "Negative\n"
     ]
    }
   ],
   "source": [
    "#testing the Naive Bayes model\n",
    "review = \"\"\"I've recently moved into a new apartment and needed a router to attach to the internet. \n",
    "Frankly, I was intimidated by the sheer amount (and price) of routers on the market so it felt like a gamble getting this, \n",
    "but I'm glad I did! It was easy to set up, the only trouble I ever had was plugging the ethernet into the wrong outlet (which was completely my bad). \n",
    "The signal works amazing, we have it on the main floor and get signal on both the lower and upper levels. \n",
    "We've had no connection issues, and everything has run perfectly so far. If you're looking for something inexpensive but functional, \n",
    "I'd definitely recommend this!\"\"\"\n",
    "\n",
    "review_vector = vectorizer.transform([review]) # vectorizing\n",
    "\n",
    "result = int(nb.predict(review_vector))\n",
    "if result != 1:\n",
    "  print(\"Negative\")\n",
    "else:\n",
    "  print(\"Positive\")"
   ]
  },
  {
   "cell_type": "code",
   "execution_count": 38,
   "metadata": {
    "colab": {
     "base_uri": "https://localhost:8080/"
    },
    "id": "hRw5dUFhGuk3",
    "outputId": "a9fce968-6039-4b1a-da96-ab56204addb8"
   },
   "outputs": [
    {
     "name": "stdout",
     "output_type": "stream",
     "text": [
      "Negative\n"
     ]
    }
   ],
   "source": [
    "#testing the Naive Bayes model\n",
    "review = \"\"\"I received defective piece display is not working properly\"\"\"\n",
    "review_vector = vectorizer.transform([review]) # vectorizing\n",
    "\n",
    "result = int(nb.predict(review_vector))\n",
    "if result != 1:\n",
    "  print(\"Negative\")\n",
    "else:\n",
    "  print(\"Positive\")"
   ]
  },
  {
   "cell_type": "code",
   "execution_count": 39,
   "metadata": {
    "colab": {
     "base_uri": "https://localhost:8080/"
    },
    "id": "WcWC2tYgvY7q",
    "outputId": "9fe3cccc-b257-4e96-a9ac-31cb9b724941"
   },
   "outputs": [
    {
     "name": "stdout",
     "output_type": "stream",
     "text": [
      "              precision    recall  f1-score   support\n",
      "\n",
      "           0       0.85      0.86      0.85     12500\n",
      "           1       0.86      0.84      0.85     12500\n",
      "\n",
      "    accuracy                           0.85     25000\n",
      "   macro avg       0.85      0.85      0.85     25000\n",
      "weighted avg       0.85      0.85      0.85     25000\n",
      "\n",
      "accuracy: 0.85296\n"
     ]
    }
   ],
   "source": [
    "#SVM Model Without transformation and tested using best C obtained below\n",
    "svmvectorizer = CountVectorizer()\n",
    "svmtrain_features = svmvectorizer.fit_transform(reviews['0'])\n",
    "svmtest_features = svmvectorizer.transform(test['0'])\n",
    "\n",
    "# Perform classification with SVM, kernel=linear\n",
    "linearsvm = svm.LinearSVC(C = 0.125,max_iter=100000)\n",
    "linearsvm.fit(svmtrain_features, reviews['1'])\n",
    "predict_linearsvm = linearsvm.predict(svmtest_features)\n",
    "# Now we can use the model to predict classifications for our test features.\n",
    "print(classification_report(test['1'], predict_linearsvm))\n",
    "print(\"accuracy: {0}\".format(metrics.accuracy_score(test['1'], predict_linearsvm)))\n"
   ]
  },
  {
   "cell_type": "code",
   "execution_count": 16,
   "metadata": {
    "id": "Dlc2pvIY6dTQ"
   },
   "outputs": [],
   "source": [
    "# Transforming the Data\n",
    "from sklearn.preprocessing import Normalizer\n",
    "transformer = Normalizer().fit(svmtrain_features)\n",
    "\n",
    "svmtrain_trans = transformer.transform(svmtrain_features)\n",
    "transformer = Normalizer().fit(svmtest_features)\n",
    "\n",
    "svmtest_trans = transformer.transform(svmtest_features)"
   ]
  },
  {
   "cell_type": "code",
   "execution_count": 17,
   "metadata": {
    "colab": {
     "base_uri": "https://localhost:8080/"
    },
    "id": "luexiFDiunXr",
    "outputId": "b5a6584c-ec1b-4e2e-ffcd-ae295fc38d31"
   },
   "outputs": [
    {
     "name": "stdout",
     "output_type": "stream",
     "text": [
      "0.25 0.88244 [0.87912, 0.88244, 0.88112, 0.87752, 0.87152, 0.86408, 0.85528, 0.84928, 0.8456, 0.84324, 0.8416, 0.84092, 0.84056]\n"
     ]
    }
   ],
   "source": [
    "#Best C \n",
    "best_C = None\n",
    "best_score = 0\n",
    "accuracy = []\n",
    "for C in (0.125, 0.25, 0.5, 1, 2, 4, 8, 16, 32, 64, 128, 256, 512):\n",
    "  linearsvm = svm.LinearSVC(C=C,max_iter=100000)\n",
    "  linearsvm.fit(svmtrain_trans, reviews['1'])\n",
    "  score = linearsvm.score(svmtest_trans, test['1'])\n",
    "  accuracy = accuracy + [score]\n",
    "  if score > best_score:\n",
    "    best_score = score\n",
    "    best_C = C\n",
    "print(best_C,best_score,accuracy)"
   ]
  },
  {
   "cell_type": "code",
   "execution_count": 23,
   "metadata": {
    "colab": {
     "base_uri": "https://localhost:8080/"
    },
    "id": "5E_UiG7ca4Z3",
    "outputId": "dd0b8c57-5325-426c-94dc-9157577ca17e"
   },
   "outputs": [
    {
     "name": "stdout",
     "output_type": "stream",
     "text": [
      "              precision    recall  f1-score   support\n",
      "\n",
      "           0       0.88      0.88      0.88     12500\n",
      "           1       0.88      0.88      0.88     12500\n",
      "\n",
      "    accuracy                           0.88     25000\n",
      "   macro avg       0.88      0.88      0.88     25000\n",
      "weighted avg       0.88      0.88      0.88     25000\n",
      "\n",
      "accuracy: 0.88244\n"
     ]
    }
   ],
   "source": [
    "#SVM Performance after using Best C and Transformed data; Improved Accuracy\n",
    "# Perform classification with SVM, kernel=linear\n",
    "linearsvm = svm.LinearSVC(C = 0.25,max_iter=100000)\n",
    "linearsvm.fit(svmtrain_trans, reviews['1'])\n",
    "predict_linearsvm = linearsvm.predict(svmtest_trans)\n",
    "# Now we can use the model to predict classifications for our test features.\n",
    "print(classification_report(test['1'], predict_linearsvm))\n",
    "print(\"accuracy: {0}\".format(metrics.accuracy_score(test['1'], predict_linearsvm)))"
   ]
  },
  {
   "cell_type": "code",
   "execution_count": 18,
   "metadata": {
    "colab": {
     "base_uri": "https://localhost:8080/"
    },
    "id": "2MZqQmSxwW6E",
    "outputId": "dab00196-4694-4f73-bf15-d569323ecf1a"
   },
   "outputs": [
    {
     "name": "stdout",
     "output_type": "stream",
     "text": [
      "Positive\n"
     ]
    }
   ],
   "source": [
    "#testing the SVM model\n",
    "review = \"\"\"I've recently moved into a new apartment and needed a router to attach to the internet. \n",
    "Frankly, I was intimidated by the sheer amount (and price) of routers on the market so it felt like a gamble getting this, \n",
    "but I'm glad I did! It was easy to set up, the only trouble I ever had was plugging the ethernet into the wrong outlet (which was completely my bad). \n",
    "The signal works amazing, we have it on the main floor and get signal on both the lower and upper levels. \n",
    "We've had no connection issues, and everything has run perfectly so far. If you're looking for something inexpensive but functional, \n",
    "I'd definitely recommend this!\"\"\"\n",
    "\n",
    "review_vector = svmvectorizer.transform([review]) # vectorizing\n",
    "\n",
    "result = int(linearsvm.predict(review_vector))\n",
    "if result != 1:\n",
    "  print(\"Negative\")\n",
    "else:\n",
    "  print(\"Positive\")"
   ]
  },
  {
   "cell_type": "code",
   "execution_count": 19,
   "metadata": {
    "colab": {
     "base_uri": "https://localhost:8080/"
    },
    "id": "aZlZBjvkG0G_",
    "outputId": "32fea5db-9d27-4a34-ee7e-921b62b5d820"
   },
   "outputs": [
    {
     "name": "stdout",
     "output_type": "stream",
     "text": [
      "Negative\n"
     ]
    }
   ],
   "source": [
    "#testing the SVM model\n",
    "review = \"\"\"I received defective piece display is not working properly\"\"\"\n",
    "review_vector = svmvectorizer.transform([review]) # vectorizing\n",
    "\n",
    "result = int(linearsvm.predict(review_vector))\n",
    "if result != 1:\n",
    "  print(\"Negative\")\n",
    "else:\n",
    "  print(\"Positive\")"
   ]
  },
  {
   "cell_type": "code",
   "execution_count": 41,
   "metadata": {
    "colab": {
     "base_uri": "https://localhost:8080/"
    },
    "id": "4JQyYUOArOhS",
    "outputId": "c2e02a69-f040-44e8-fd42-af9c601832c2"
   },
   "outputs": [
    {
     "name": "stdout",
     "output_type": "stream",
     "text": [
      "              precision    recall  f1-score   support\n",
      "\n",
      "           0       0.86      0.87      0.86     12500\n",
      "           1       0.87      0.86      0.86     12500\n",
      "\n",
      "    accuracy                           0.86     25000\n",
      "   macro avg       0.86      0.86      0.86     25000\n",
      "weighted avg       0.86      0.86      0.86     25000\n",
      "\n",
      "accuracy: 0.86376\n"
     ]
    }
   ],
   "source": [
    "#Third Model\n",
    "from sklearn import linear_model\n",
    "#Logistic Regression\n",
    "lrvectorizer = CountVectorizer()\n",
    "lrtrain_features = lrvectorizer.fit_transform(reviews['0'])\n",
    "lrtest_features = lrvectorizer.transform(test['0'])\n",
    "\n",
    "#model\n",
    "lrmodel = linear_model.LogisticRegression(max_iter=10000)\n",
    "\n",
    "lrmodel.fit(lrtrain_features, reviews['1'])\n",
    "lrpredict = lrmodel.predict(lrtest_features)\n",
    "\n",
    "# results\n",
    "print(classification_report(test['1'], lrpredict))\n",
    "print(\"accuracy: {0}\".format(metrics.accuracy_score(test['1'], lrpredict)))"
   ]
  },
  {
   "cell_type": "code",
   "execution_count": 42,
   "metadata": {
    "colab": {
     "base_uri": "https://localhost:8080/"
    },
    "id": "v8deGV9J1Ui9",
    "outputId": "77a6c4b9-bb76-448f-d707-627fe0e4908c"
   },
   "outputs": [
    {
     "name": "stdout",
     "output_type": "stream",
     "text": [
      "Positive\n"
     ]
    }
   ],
   "source": [
    "#Testing the Logistic Regression model on a Positive Review\n",
    "review = \"\"\"I've recently moved into a new apartment and needed a router to attach to the internet. Frankly, I was intimidated by the sheer amount (and price) of routers on the market so it felt like a gamble getting this, but I'm glad I did! It was easy to set up, the only trouble I ever had was plugging the ethernet into the wrong outlet (which was completely my bad). The signal works amazing, we have it on the main floor and get signal on both the lower and upper levels. We've had no connection issues, and everything has run perfectly so far. If you're looking for something inexpensive but functional, I'd definitely recommend this!\"\"\"\n",
    "review_vector = lrvectorizer.transform([review]) # vectorizing\n",
    "\n",
    "result = int(lrmodel.predict(review_vector))\n",
    "if result != 1:\n",
    "  print(\"Negative\")\n",
    "else:\n",
    "  print(\"Positive\")"
   ]
  },
  {
   "cell_type": "code",
   "execution_count": 43,
   "metadata": {
    "colab": {
     "base_uri": "https://localhost:8080/"
    },
    "id": "iyNvyvXqnSiR",
    "outputId": "a32ffec8-2f7e-43d8-b52d-a0dffa4afa27"
   },
   "outputs": [
    {
     "name": "stdout",
     "output_type": "stream",
     "text": [
      "Negative\n"
     ]
    }
   ],
   "source": [
    "#Testing the Logistic Regression model on a Negative Review\n",
    "review = \"\"\"I received defective piece display is not working properly\"\"\"\n",
    "review_vector = lrvectorizer.transform([review]) # vectorizing\n",
    "\n",
    "result = int(lrmodel.predict(review_vector))\n",
    "if result != 1:\n",
    "  print(\"Negative\")\n",
    "else:\n",
    "  print(\"Positive\")"
   ]
  },
  {
   "cell_type": "code",
   "execution_count": 8,
   "metadata": {
    "id": "bVIVwQGlVpbx"
   },
   "outputs": [],
   "source": [
    "#vectorize and apply K-Means\n",
    "kmvectorizer = CountVectorizer()\n",
    "kmtrain_features = kmvectorizer.fit_transform(reviews['0'])\n",
    "kmtest_features = kmvectorizer.transform(test['0'])\n",
    "#print(kmtrain_features)\n",
    "#print(kmtest_features)"
   ]
  },
  {
   "cell_type": "code",
   "execution_count": 13,
   "metadata": {
    "colab": {
     "base_uri": "https://localhost:8080/"
    },
    "id": "ATQtHetGWgWU",
    "outputId": "a5d60392-f4c4-4b13-e0bc-75bef4110ea3"
   },
   "outputs": [
    {
     "data": {
      "text/plain": [
       "array([1, 1, 1, ..., 0, 1, 1], dtype=int32)"
      ]
     },
     "execution_count": 13,
     "metadata": {},
     "output_type": "execute_result"
    }
   ],
   "source": [
    "from sklearn.cluster import KMeans \n",
    "\n",
    "kmmodel = KMeans(n_clusters=2,n_init=10 ,random_state=5)\n",
    "\n",
    "kmmodel.fit_predict(kmtrain_features)\n",
    "#print(kmmodel.labels_)"
   ]
  },
  {
   "cell_type": "code",
   "execution_count": 14,
   "metadata": {
    "colab": {
     "base_uri": "https://localhost:8080/"
    },
    "id": "opx94p3qjcZA",
    "outputId": "c1686372-cc6a-4722-9953-ee0bced0170d"
   },
   "outputs": [
    {
     "name": "stdout",
     "output_type": "stream",
     "text": [
      "              precision    recall  f1-score   support\n",
      "\n",
      "           0       0.51      0.17      0.25     12500\n",
      "           1       0.50      0.84      0.63     12500\n",
      "\n",
      "    accuracy                           0.50     25000\n",
      "   macro avg       0.51      0.50      0.44     25000\n",
      "weighted avg       0.51      0.50      0.44     25000\n",
      "\n",
      "accuracy: 0.50336\n"
     ]
    }
   ],
   "source": [
    "#Predit on test data\n",
    "kmmpredict = kmmodel.predict(kmtest_features)\n",
    "\n",
    "print(classification_report(test['1'], kmmpredict))\n",
    "print(\"accuracy: {0}\".format(metrics.accuracy_score(test['1'], kmmpredict)))"
   ]
  },
  {
   "cell_type": "code",
   "execution_count": 20,
   "metadata": {
    "colab": {
     "base_uri": "https://localhost:8080/"
    },
    "id": "TC7DnfLe7-8C",
    "outputId": "d17721ae-51c1-4a08-c807-4329acdaa9f7"
   },
   "outputs": [
    {
     "data": {
      "text/plain": [
       "array([1, 1, 1, ..., 1, 1, 1], dtype=int32)"
      ]
     },
     "execution_count": 20,
     "metadata": {},
     "output_type": "execute_result"
    }
   ],
   "source": [
    "#k-means on transformed data\n",
    "from sklearn.cluster import KMeans \n",
    "\n",
    "kmmodel = KMeans(n_clusters=2,n_init=10 ,random_state=5)\n",
    "\n",
    "kmmodel.fit_predict(svmtrain_trans)\n",
    "#print(kmmodel.labels_)"
   ]
  },
  {
   "cell_type": "code",
   "execution_count": 21,
   "metadata": {
    "colab": {
     "base_uri": "https://localhost:8080/"
    },
    "id": "1lqlO8ad8LjV",
    "outputId": "7d306e7c-45b4-4ac1-c693-fd8dd9dbaddf"
   },
   "outputs": [
    {
     "name": "stdout",
     "output_type": "stream",
     "text": [
      "              precision    recall  f1-score   support\n",
      "\n",
      "           0       0.58      0.39      0.46     12500\n",
      "           1       0.54      0.72      0.62     12500\n",
      "\n",
      "    accuracy                           0.55     25000\n",
      "   macro avg       0.56      0.55      0.54     25000\n",
      "weighted avg       0.56      0.55      0.54     25000\n",
      "\n",
      "accuracy: 0.55208\n"
     ]
    }
   ],
   "source": [
    "#predict on transformed test data\n",
    "kmmpredict = kmmodel.predict(svmtest_trans)\n",
    "\n",
    "print(classification_report(test['1'], kmmpredict))\n",
    "print(\"accuracy: {0}\".format(metrics.accuracy_score(test['1'], kmmpredict)))"
   ]
  },
  {
   "cell_type": "code",
   "execution_count": 28,
   "metadata": {
    "colab": {
     "base_uri": "https://localhost:8080/"
    },
    "id": "5gajLEGTmT-n",
    "outputId": "b035e9d3-dd25-4192-d11e-b404f462b694"
   },
   "outputs": [
    {
     "name": "stdout",
     "output_type": "stream",
     "text": [
      "Positive\n"
     ]
    }
   ],
   "source": [
    "#Testing Kmeans on a Negative Review\n",
    "review = \"\"\"I received defective piece display is not working properly\"\"\"\n",
    "review_vector = kmvectorizer.transform([review]) # vectorizing\n",
    "\n",
    "result = int(kmmodel.predict(review_vector))\n",
    "\n",
    "if result != 1:\n",
    "  print(\"Negative\")\n",
    "else:\n",
    "  print(\"Positive\")"
   ]
  },
  {
   "cell_type": "code",
   "execution_count": 30,
   "metadata": {
    "colab": {
     "base_uri": "https://localhost:8080/"
    },
    "id": "FXfB-bq7adn6",
    "outputId": "4d404cf5-d344-4ca2-b3e1-9d84a09e8640"
   },
   "outputs": [
    {
     "name": "stdout",
     "output_type": "stream",
     "text": [
      "Positive\n"
     ]
    }
   ],
   "source": [
    "#Testing Kmeans on a Positive Review\n",
    "review = \"\"\"I've recently moved into a new apartment and needed a router to attach to the internet. Frankly, I was intimidated by the sheer amount (and price) of routers on the market so it felt like a gamble getting this, but I'm glad I did! It was easy to set up, the only trouble I ever had was plugging the ethernet into the wrong outlet (which was completely my bad). The signal works amazing, we have it on the main floor and get signal on both the lower and upper levels. We've had no connection issues, and everything has run perfectly so far. If you're looking for something inexpensive but functional, I'd definitely recommend this!\"\"\"\n",
    "review_vector = kmvectorizer.transform([review]) # vectorizing\n",
    "\n",
    "result = int(kmmodel.predict(review_vector))\n",
    "\n",
    "if result != 1:\n",
    "  print(\"Negative\")\n",
    "else:\n",
    "  print(\"Positive\")"
   ]
  },
  {
   "cell_type": "code",
   "execution_count": 31,
   "metadata": {
    "colab": {
     "base_uri": "https://localhost:8080/"
    },
    "id": "-W5w0vSXpPbw",
    "outputId": "717dcb7e-bf63-4b19-9f28-35f71777e000"
   },
   "outputs": [
    {
     "name": "stdout",
     "output_type": "stream",
     "text": [
      "              0\n",
      "0            a+\n",
      "1        abound\n",
      "2       abounds\n",
      "3     abundance\n",
      "4      abundant\n",
      "...         ...\n",
      "2001   youthful\n",
      "2002       zeal\n",
      "2003     zenith\n",
      "2004       zest\n",
      "2005      zippy\n",
      "\n",
      "[2006 rows x 1 columns]\n",
      "               0\n",
      "0        2-faced\n",
      "1        2-faces\n",
      "2       abnormal\n",
      "3        abolish\n",
      "4     abominable\n",
      "...          ...\n",
      "4778        zaps\n",
      "4779      zealot\n",
      "4780     zealous\n",
      "4781   zealously\n",
      "4782      zombie\n",
      "\n",
      "[4783 rows x 1 columns]\n"
     ]
    }
   ],
   "source": [
    "#import Negative and Positive words files\n",
    "import pandas as pd\n",
    "\n",
    "positive = pd.read_csv('positive-words.txt', header = None)\n",
    "negative = pd.read_csv('negative-words.txt', header = None)\n",
    "print(positive)\n",
    "print(negative)"
   ]
  },
  {
   "cell_type": "code",
   "execution_count": 32,
   "metadata": {
    "colab": {
     "base_uri": "https://localhost:8080/"
    },
    "id": "iIeL3ap9GlFH",
    "outputId": "02625870-9b4f-4743-8396-885d0c0d7cef"
   },
   "outputs": [
    {
     "name": "stdout",
     "output_type": "stream",
     "text": [
      "['Ive', 'recently', 'moved', 'into', 'a', 'new', 'apartment', 'and', 'needed', 'a', 'router', 'to', 'attach', 'to', 'the', 'internet', 'Frankly', 'I', 'was', 'intimidated', 'by', 'the', 'sheer', 'amount', 'and', 'price', 'of', 'routers', 'on', 'the', 'market', 'so', 'it', 'felt', 'like', 'a', 'gamble', 'getting', 'this', 'but', 'Im', 'glad', 'I', 'did', 'It', 'was', 'easy', 'to', 'set', 'up', 'the', 'only', 'trouble', 'I', 'ever', 'had', 'was', 'plugging', 'the', 'ethernet', 'into', 'the', 'wrong', 'outlet', 'which', 'was', 'completely', 'my', 'bad', 'The', 'signal', 'works', 'amazing', 'we', 'have', 'it', 'on', 'the', 'main', 'floor', 'and', 'get', 'signal', 'on', 'both', 'the', 'lower', 'and', 'upper', 'levels', 'Weve', 'had', 'no', 'connection', 'issues', 'and', 'everything', 'has', 'run', 'perfectly', 'so', 'far', 'If', 'youre', 'looking', 'for', 'something', 'inexpensive', 'but', 'functional', 'Id', 'definitely', 'recommend', 'this']\n"
     ]
    }
   ],
   "source": [
    "#Tokenize and Clean the random positive review\n",
    "review_words = review.split()\n",
    "test_data = [re.sub(r'[^A-Za-z]+', '', each) for each in review_words]\n",
    "print(test_data)"
   ]
  },
  {
   "cell_type": "code",
   "execution_count": 33,
   "metadata": {
    "id": "QanQHxkQ9pYc"
   },
   "outputs": [],
   "source": [
    "pos_words = [x[1] for x in positive.itertuples()]\n",
    "neg_words = [x[1] for x in negative.itertuples()]"
   ]
  },
  {
   "cell_type": "code",
   "execution_count": 34,
   "metadata": {
    "colab": {
     "base_uri": "https://localhost:8080/"
    },
    "id": "5CuOEVBF6yX6",
    "outputId": "8d520189-eef1-4fcb-def4-ccc3bc20827c"
   },
   "outputs": [
    {
     "name": "stdout",
     "output_type": "stream",
     "text": [
      "8\n",
      "4\n"
     ]
    }
   ],
   "source": [
    "#Count the number of positive and negative words in the given review\n",
    "pos_count = 0\n",
    "neg_count = 0\n",
    "for word in test_data:\n",
    "  if word in pos_words:\n",
    "    pos_count = pos_count + 1\n",
    "  if word in neg_words:\n",
    "    neg_count = neg_count + 1\n",
    "\n",
    "print(pos_count)\n",
    "print(neg_count)"
   ]
  },
  {
   "cell_type": "code",
   "execution_count": 35,
   "metadata": {
    "colab": {
     "base_uri": "https://localhost:8080/"
    },
    "id": "Wf-HMaaF08MQ",
    "outputId": "d2865fd9-728f-4a1a-ae5c-10569c669cbf"
   },
   "outputs": [
    {
     "name": "stdout",
     "output_type": "stream",
     "text": [
      " The rating of the review is: 3.33\n"
     ]
    }
   ],
   "source": [
    "#Rating on 5-Star Scale\n",
    "rating = round(((5*pos_count)/(pos_count + neg_count)),2)\n",
    "print(\" The rating of the review is:\", rating)"
   ]
  }
 ],
 "metadata": {
  "colab": {
   "provenance": []
  },
  "kernelspec": {
   "display_name": "Python 3 (ipykernel)",
   "language": "python",
   "name": "python3"
  },
  "language_info": {
   "codemirror_mode": {
    "name": "ipython",
    "version": 3
   },
   "file_extension": ".py",
   "mimetype": "text/x-python",
   "name": "python",
   "nbconvert_exporter": "python",
   "pygments_lexer": "ipython3",
   "version": "3.9.7"
  }
 },
 "nbformat": 4,
 "nbformat_minor": 1
}
